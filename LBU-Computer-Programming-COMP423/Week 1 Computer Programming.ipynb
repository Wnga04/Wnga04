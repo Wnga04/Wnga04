{
 "cells": [
  {
   "cell_type": "markdown",
   "id": "803c07ca",
   "metadata": {},
   "source": [
    "Below are basic python codes to introduce python."
   ]
  },
  {
   "cell_type": "code",
   "execution_count": 7,
   "id": "0c6730af",
   "metadata": {},
   "outputs": [
    {
     "name": "stdout",
     "output_type": "stream",
     "text": [
      "Hello World!\n"
     ]
    }
   ],
   "source": [
    "print(\"Hello World!\")"
   ]
  },
  {
   "cell_type": "code",
   "execution_count": 8,
   "id": "b988f290",
   "metadata": {},
   "outputs": [
    {
     "name": "stdout",
     "output_type": "stream",
     "text": [
      "Leeds Beckett University.\n"
     ]
    }
   ],
   "source": [
    "print(\"Leeds Beckett University.\")"
   ]
  },
  {
   "cell_type": "markdown",
   "id": "affd64ae",
   "metadata": {},
   "source": [
    "This code introduces user inputs and casting variables (specifying the data type of a variable)."
   ]
  },
  {
   "cell_type": "code",
   "execution_count": 9,
   "id": "0940750f",
   "metadata": {},
   "outputs": [
    {
     "name": "stdout",
     "output_type": "stream",
     "text": [
      "Hello, Alex!, you are 24 years old!\n"
     ]
    }
   ],
   "source": [
    "if __name__ == \"__main__\":\n",
    "    name = str(input(\"Greetings! How shall I call you? \"))\n",
    "\n",
    "    current_year = int(input(\"What is the current year?\"))\n",
    "    birth_year = int(input(\"What year were you born?\"))\n",
    "    age = current_year - birth_year\n",
    "\n",
    "    print(f\"Hello, {name}!, you are {age} years old!\")"
   ]
  }
 ],
 "metadata": {
  "kernelspec": {
   "display_name": "Python 3",
   "language": "python",
   "name": "python3"
  },
  "language_info": {
   "codemirror_mode": {
    "name": "ipython",
    "version": 3
   },
   "file_extension": ".py",
   "mimetype": "text/x-python",
   "name": "python",
   "nbconvert_exporter": "python",
   "pygments_lexer": "ipython3",
   "version": "3.13.3"
  }
 },
 "nbformat": 4,
 "nbformat_minor": 5
}
