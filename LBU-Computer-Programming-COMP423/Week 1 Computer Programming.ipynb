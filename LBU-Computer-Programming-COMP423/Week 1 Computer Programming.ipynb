{
 "cells": [
  {
   "cell_type": "markdown",
   "id": "803c07ca",
   "metadata": {},
   "source": [
    "Below are basic python codes to introduce python."
   ]
  },
  {
   "cell_type": "code",
   "execution_count": 7,
   "id": "0c6730af",
   "metadata": {},
   "outputs": [
    {
     "name": "stdout",
     "output_type": "stream",
     "text": [
      "Hello World!\n"
     ]
    }
   ],
   "source": [
    "print(\"Hello World!\")"
   ]
  },
  {
   "cell_type": "code",
   "execution_count": 8,
   "id": "b988f290",
   "metadata": {},
   "outputs": [
    {
     "name": "stdout",
     "output_type": "stream",
     "text": [
      "Leeds Beckett University.\n"
     ]
    }
   ],
   "source": [
    "print(\"Leeds Beckett University.\")"
   ]
  },
  {
   "cell_type": "markdown",
   "id": "affd64ae",
   "metadata": {},
   "source": [
    "This code introduces user inputs and casting variables (specifying the data type of a variable)."
   ]
  },
  {
   "cell_type": "code",
   "execution_count": 9,
   "id": "0940750f",
   "metadata": {},
   "outputs": [
    {
     "name": "stdout",
     "output_type": "stream",
     "text": [
      "Hello, Alex!, you are 24 years old!\n"
     ]
    }
   ],
   "source": [
    "if __name__ == \"__main__\":\n",
    "    name = str(input(\"Greetings! How shall I call you? \"))\n",
    "\n",
    "    current_year = int(input(\"What is the current year?\"))\n",
    "    birth_year = int(input(\"What year were you born?\"))\n",
    "    age = current_year - birth_year\n",
    "\n",
    "    print(f\"Hello, {name}!, you are {age} years old!\")"
   ]
  },
  {
   "cell_type": "markdown",
   "id": "707c3fec",
   "metadata": {},
   "source": [
    "This code introduces calculations using operators to convert Celcius to Fahrenheit. It also introduces modifiers of the variable, in this case, the celcius and fahrenheit variable has been modified to become a fixed point number with 1 decimal."
   ]
  },
  {
   "cell_type": "code",
   "execution_count": 3,
   "id": "2b70d894",
   "metadata": {},
   "outputs": [
    {
     "name": "stdout",
     "output_type": "stream",
     "text": [
      "14.0C is equivalent to 57.2F.\n"
     ]
    }
   ],
   "source": [
    "if __name__ == \"__main__\":\n",
    "    celsius = int(input(\"What is the temperature today?\"))\n",
    "    fahrenheit = 9 / 5 * celsius + 32\n",
    "\n",
    "    print(f\"{celsius:.1f}C is equivalent to {fahrenheit:.1f}F.\")"
   ]
  },
  {
   "cell_type": "markdown",
   "id": "db4f4509",
   "metadata": {},
   "source": [
    "You can also modify values directly without using variables to store the data."
   ]
  },
  {
   "cell_type": "code",
   "execution_count": 4,
   "id": "4ae6a192",
   "metadata": {},
   "outputs": [
    {
     "name": "stdout",
     "output_type": "stream",
     "text": [
      "The price is £59.00\n"
     ]
    }
   ],
   "source": [
    "print(f\"The price is £{59:.2f}\")"
   ]
  },
  {
   "cell_type": "code",
   "execution_count": null,
   "id": "1247ca0d",
   "metadata": {},
   "outputs": [],
   "source": []
  }
 ],
 "metadata": {
  "kernelspec": {
   "display_name": "Python 3",
   "language": "python",
   "name": "python3"
  },
  "language_info": {
   "codemirror_mode": {
    "name": "ipython",
    "version": 3
   },
   "file_extension": ".py",
   "mimetype": "text/x-python",
   "name": "python",
   "nbconvert_exporter": "python",
   "pygments_lexer": "ipython3",
   "version": "3.13.3"
  }
 },
 "nbformat": 4,
 "nbformat_minor": 5
}
